{
 "cells": [
  {
   "cell_type": "raw",
   "id": "ebd67af8-b742-43ea-bd03-cb754afa3a8d",
   "metadata": {},
   "source": [
    "question 1- Guido van Rossum developed python programming language."
   ]
  },
  {
   "cell_type": "raw",
   "id": "bad2f6c9-1dea-47d5-97a5-0ba304abb265",
   "metadata": {},
   "source": [
    "question 2- Python is an interpreted programming language, supporting object-oriented, structured, and functional programming.\n"
   ]
  },
  {
   "cell_type": "raw",
   "id": "f1bd72b5-e3ef-461a-9ac0-ca131da82623",
   "metadata": {},
   "source": [
    "question 3- Yes, Python is a case-sensitive language, i.e., it treats uppercase and lowercase characters differently. This is important when using  identifiers."
   ]
  },
  {
   "cell_type": "raw",
   "id": "e8a6e065-fe5d-4295-9e4a-ed9162875f52",
   "metadata": {},
   "source": [
    "question 4- The Files with the . py extension contain the Python source code."
   ]
  },
  {
   "cell_type": "raw",
   "id": "5c6e9045-6248-45d2-9c0a-8779288d9cc9",
   "metadata": {},
   "source": [
    "question 5- Python is an interpreted language"
   ]
  },
  {
   "cell_type": "raw",
   "id": "b5267cf1-faa6-4de9-9ecc-0d0a5b3e6480",
   "metadata": {},
   "source": [
    "question 6- Indentation is used to define a block of code in python. Braces {} are also used to define a block of code in python."
   ]
  },
  {
   "cell_type": "raw",
   "id": "f7c79ebf-4c32-4619-b474-cd318de7946b",
   "metadata": {},
   "source": [
    "question 7- Hash character(#) is used to comment the line in the Python program."
   ]
  },
  {
   "cell_type": "code",
   "execution_count": 5,
   "id": "0a0e5356-3f23-429e-b872-b40dde639196",
   "metadata": {},
   "outputs": [
    {
     "name": "stdout",
     "output_type": "stream",
     "text": [
      "Current Python Version- 3.10.8 | packaged by conda-forge | (main, Nov 22 2022, 08:26:04) [GCC 10.4.0]\n",
      "Current Python Version- 3.10.8\n"
     ]
    }
   ],
   "source": [
    "#question 8-- these function can help us find the version of python\n",
    "import sys\n",
    "print(\"Current Python Version-\",sys.version)\n",
    "from platform import python_version\n",
    "print(\"Current Python Version-\", python_version())"
   ]
  },
  {
   "cell_type": "raw",
   "id": "ac017ebd-4378-406d-ace8-4fc4424ed648",
   "metadata": {},
   "source": [
    "question 9- python supports the creation of anonymous functions at runtime using a construct called 'lambda'."
   ]
  },
  {
   "cell_type": "raw",
   "id": "393f5fcc-977f-4757-b2ae-8558b5954565",
   "metadata": {},
   "source": [
    "question 10- pip stands for \"preferred installer program\""
   ]
  },
  {
   "cell_type": "raw",
   "id": "16930639-5977-4f4c-b281-2b73349a539b",
   "metadata": {},
   "source": [
    "question 11-\n",
    "print( ) function.\n",
    "type( ) function.\n",
    "input( ) function.\n",
    "abs( ) function.\n",
    "pow( ) function.\n",
    "dir( ) function.\n",
    "sorted( ) function.\n",
    "max( ) function.\n",
    "these are some of the built in functions in python."
   ]
  },
  {
   "cell_type": "raw",
   "id": "a158223e-09d5-4fd9-9695-23c11d038a72",
   "metadata": {},
   "source": [
    "question 12-An identifier can have a maximum length of 79 characters in Python,"
   ]
  },
  {
   "cell_type": "raw",
   "id": "b39d4903-e075-4f3d-b42f-c216a7f475a2",
   "metadata": {},
   "source": [
    "question 13- Python is a prominently used coding language and has various benefits. The major one are it is largely used by professional programmers and developers across a variety of fields, including Web Development and Machine Learning.Thus, learning Python provides an upper hand to the programmer."
   ]
  },
  {
   "cell_type": "raw",
   "id": "410d5ee7-3dd9-460f-a245-95dbd73e5ac4",
   "metadata": {},
   "source": [
    "question 14-Memory management in Python involves a private heap containing all Python objects and data structures. The management of this private heap is ensured internally by the Python memory manager.\n"
   ]
  },
  {
   "cell_type": "raw",
   "id": "8dca3ec3-fb3d-4cff-a4ce-c0b975144316",
   "metadata": {},
   "source": [
    "question 15- Python can be downloaded from https://www.python.org/downloads/ i.e their official website for the required device. \n",
    "In order to set the PATH variable, In the section entitled User Variables, double-click on the entry that says Path. Another window will pop up showing a list of paths. Click the New button and paste the path to your Python executable there."
   ]
  },
  {
   "cell_type": "raw",
   "id": "cfda85ae-f41d-44f0-bdba-cf95d342671e",
   "metadata": {},
   "source": [
    "question 16- Indentation is mandatory in python to define the blocks of statements."
   ]
  }
 ],
 "metadata": {
  "kernelspec": {
   "display_name": "Python 3 (ipykernel)",
   "language": "python",
   "name": "python3"
  },
  "language_info": {
   "codemirror_mode": {
    "name": "ipython",
    "version": 3
   },
   "file_extension": ".py",
   "mimetype": "text/x-python",
   "name": "python",
   "nbconvert_exporter": "python",
   "pygments_lexer": "ipython3",
   "version": "3.10.8"
  }
 },
 "nbformat": 4,
 "nbformat_minor": 5
}
